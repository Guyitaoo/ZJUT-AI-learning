{
 "cells": [
  {
   "cell_type": "markdown",
   "id": "bf833c2b-b6da-4de1-8132-c23edec01f97",
   "metadata": {},
   "source": [
    "# 分词"
   ]
  },
  {
   "cell_type": "code",
   "execution_count": 1,
   "id": "8c4f92c4-63c8-4cd5-9133-990151daaa00",
   "metadata": {},
   "outputs": [
    {
     "name": "stdout",
     "output_type": "stream",
     "text": [
      "Hello world！\n"
     ]
    }
   ],
   "source": [
    "print(\"Hello world！\")"
   ]
  },
  {
   "cell_type": "markdown",
   "id": "5c0e485a-0d86-4d47-9673-7f08e7a80c4a",
   "metadata": {},
   "source": []
  },
  {
   "cell_type": "code",
   "execution_count": null,
   "id": "6916abf4-a261-4104-9644-5b3d02a55b48",
   "metadata": {},
   "outputs": [],
   "source": []
  }
 ],
 "metadata": {
  "kernelspec": {
   "display_name": "Python 3 (ipykernel)",
   "language": "python",
   "name": "python3"
  },
  "language_info": {
   "codemirror_mode": {
    "name": "ipython",
    "version": 3
   },
   "file_extension": ".py",
   "mimetype": "text/x-python",
   "name": "python",
   "nbconvert_exporter": "python",
   "pygments_lexer": "ipython3",
   "version": "3.11.13"
  }
 },
 "nbformat": 4,
 "nbformat_minor": 5
}
